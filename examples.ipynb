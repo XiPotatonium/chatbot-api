{
 "cells": [
  {
   "cell_type": "code",
   "execution_count": 44,
   "metadata": {},
   "outputs": [],
   "source": [
    "import json\n",
    "import requests\n",
    "from src.common import ROLE_USER, ROLE_BOT\n",
    "import time\n"
   ]
  },
  {
   "attachments": {},
   "cell_type": "markdown",
   "metadata": {},
   "source": [
    "```bash\n",
    "curl -X 'POST' \\\n",
    "  'http://127.0.0.1:8000/debug' \\\n",
    "  -H 'accept: application/json' \\\n",
    "  -H 'Content-Type: multipart/form-data' \\\n",
    "  -F 'files=@doc/img/chat-overview.png;type=image/png' \\\n",
    "  -F 'data={\n",
    "  \"name\": \"string\",\n",
    "  \"point\": 0,\n",
    "  \"is_accepted\": false\n",
    "}'\n",
    "```"
   ]
  },
  {
   "cell_type": "code",
   "execution_count": 45,
   "metadata": {},
   "outputs": [
    {
     "name": "stdout",
     "output_type": "stream",
     "text": [
      "{'JSON Payload ': {'name': 'foo', 'point': 0.13, 'is_accepted': False}, 'Filenames': ['chat-overview.png']}\n"
     ]
    }
   ],
   "source": [
    "files = {\n",
    "    \"files\": (\n",
    "        \"chat-overview.png\",\n",
    "        open(\"doc/img/chat-overview.png\", \"rb\"),\n",
    "        \"image/png\",\n",
    "    )\n",
    "}\n",
    "data = {\"data\": json.dumps({\"name\": \"foo\", \"point\": 0.13, \"is_accepted\": False})}\n",
    "# params= {\"name\": \"foo\", \"point\": 20.5, \"is_accepted\": False}\n",
    "resp = requests.post(\n",
    "    \"http://localhost:8000/debug\",\n",
    "    # params=params,\n",
    "    data=data,\n",
    "    files=files,\n",
    ")\n",
    "print(resp.json())\n"
   ]
  },
  {
   "attachments": {},
   "cell_type": "markdown",
   "metadata": {},
   "source": [
    "```bash\n",
    "curl -X 'POST' \\\n",
    "  'http://127.0.0.1:8000/api/chat/completion' \\\n",
    "  -H 'accept: application/json' \\\n",
    "  -H 'Content-Type: multipart/form-data' \\\n",
    "  -F 'data={\n",
    "  \"model\": \"blip2zh-chatglm-6b\",\n",
    "  \"messages\": [{\"role\": \"user\", \"content\": \"Hello world!\"}],\n",
    "  \"stream\": false\n",
    "}'\n",
    "```"
   ]
  },
  {
   "cell_type": "code",
   "execution_count": 52,
   "metadata": {},
   "outputs": [
    {
     "name": "stdout",
     "output_type": "stream",
     "text": [
      "{\"detail\":\"Oops! An error occurred in validating your requests: only stream is implemented for Blip2ChatGLMModel\"}\n"
     ]
    }
   ],
   "source": [
    "URL = \"http://localhost:8000/api/chat/completion\"\n",
    "MODEL = \"blip2zh-chatglm-6b\"\n",
    "MESSAGES = [{\"role\": ROLE_USER, \"content\": \"Hello world!\"}]\n",
    "headers = {\"accept\": \"application/json\"}\n",
    "data = {\"data\": json.dumps({\"model\": MODEL, \"messages\": MESSAGES, \"stream\": False})}\n",
    "\n",
    "try:\n",
    "    resp = requests.post(\n",
    "        URL,\n",
    "        data=data,\n",
    "        files=None,\n",
    "        stream=False,\n",
    "    )\n",
    "    resp.raise_for_status()\n",
    "    print(resp.json())\n",
    "except requests.exceptions.HTTPError as err:\n",
    "    print(err.response.text)\n"
   ]
  },
  {
   "attachments": {},
   "cell_type": "markdown",
   "metadata": {},
   "source": [
    "```bash\n",
    "curl -X 'POST' \\\n",
    "  'http://127.0.0.1:8000/api/chat/completion' \\\n",
    "  -H 'accept: application/json' \\\n",
    "  -H 'Content-Type: multipart/form-data' \\\n",
    "  -F 'data={\n",
    "  \"model\": \"blip2zh-chatglm-6b\",\n",
    "  \"messages\": [{\"role\": \"user\", \"content\": \"Hello world!\"}],\n",
    "  \"stream\": true\n",
    "}'\n",
    "```"
   ]
  },
  {
   "cell_type": "code",
   "execution_count": 53,
   "metadata": {},
   "outputs": [
    {
     "name": "stdout",
     "output_type": "stream",
     "text": [
      "{'choices': [{'index': 0, 'delta': {'role': 'assistant'}}]}\n",
      "{'choices': [{'index': 0, 'delta': {'content': 'Hello'}}]}\n",
      "{'choices': [{'index': 0, 'delta': {'content': '!'}}]}\n",
      "{'choices': [{'index': 0, 'delta': {'content': ' How'}}]}\n",
      "{'choices': [{'index': 0, 'delta': {'content': ' can'}}]}\n",
      "{'choices': [{'index': 0, 'delta': {'content': ' I'}}]}\n",
      "{'choices': [{'index': 0, 'delta': {'content': ' assist'}}]}\n",
      "{'choices': [{'index': 0, 'delta': {'content': ' you'}}]}\n",
      "{'choices': [{'index': 0, 'delta': {'content': ' today'}}]}\n",
      "{'choices': [{'index': 0, 'delta': {'content': '?'}}]}\n",
      "{'choices': [{'index': 0, 'delta': {}}]}\n"
     ]
    }
   ],
   "source": [
    "URL = \"http://localhost:8000/api/chat/completion\"\n",
    "MODEL = \"blip2zh-chatglm-6b\"\n",
    "MESSAGES = [{\"role\": ROLE_USER, \"content\": \"Hello world!\"}]\n",
    "data = {\"data\": json.dumps({\"model\": MODEL, \"messages\": MESSAGES, \"stream\": True})}\n",
    "resp = requests.post(URL, data=data, stream=True)\n",
    "for line in resp.iter_lines():\n",
    "    result = json.loads(line)\n",
    "    print(result)\n"
   ]
  },
  {
   "attachments": {},
   "cell_type": "markdown",
   "metadata": {},
   "source": [
    "```bash\n",
    "curl -X 'POST' \\\n",
    "  'http://127.0.0.1:8000/api/chat/completion' \\\n",
    "  -H 'accept: application/json' \\\n",
    "  -H 'Content-Type: multipart/form-data' \\\n",
    "  -F 'data={\n",
    "  \"model\": \"blip2zh-chatglm-6b\",\n",
    "  \"messages\": [{\"role\": \"user\", \"content\": \"这张照片的内容是什么？\", \"media\": [\"chat-overview.png\"]}],\n",
    "  \"stream\": true\n",
    "}' \\\n",
    "  -F 'files=@doc/img/chat-overview.png;type=image/png;filename=chat-overview.png' \\\n",
    "  -F 'files=@doc/img/mm-chat-overview.png;type=image/png;filename=mm-chat-overview.png'\n",
    "```"
   ]
  },
  {
   "cell_type": "code",
   "execution_count": 55,
   "metadata": {},
   "outputs": [
    {
     "name": "stdout",
     "output_type": "stream",
     "text": [
      "{'choices': [{'index': 0, 'delta': {'role': 'assistant'}}]}\n",
      "{'choices': [{'index': 0, 'delta': {'content': ''}}]}\n",
      "{'choices': [{'index': 0, 'delta': {'content': '这张照片'}}]}\n",
      "{'choices': [{'index': 0, 'delta': {'content': '是'}}]}\n",
      "{'choices': [{'index': 0, 'delta': {'content': '一张'}}]}\n",
      "{'choices': [{'index': 0, 'delta': {'content': '关于'}}]}\n",
      "{'choices': [{'index': 0, 'delta': {'content': '猫'}}]}\n",
      "{'choices': [{'index': 0, 'delta': {'content': '的'}}]}\n",
      "{'choices': [{'index': 0, 'delta': {'content': '插图'}}]}\n",
      "{'choices': [{'index': 0, 'delta': {'content': '，'}}]}\n",
      "{'choices': [{'index': 0, 'delta': {'content': '猫'}}]}\n",
      "{'choices': [{'index': 0, 'delta': {'content': '正'}}]}\n",
      "{'choices': [{'index': 0, 'delta': {'content': '坐在'}}]}\n",
      "{'choices': [{'index': 0, 'delta': {'content': '一只'}}]}\n",
      "{'choices': [{'index': 0, 'delta': {'content': '动物'}}]}\n",
      "{'choices': [{'index': 0, 'delta': {'content': '身上'}}]}\n",
      "{'choices': [{'index': 0, 'delta': {'content': '。'}}]}\n",
      "{'choices': [{'index': 0, 'delta': {}}]}\n"
     ]
    }
   ],
   "source": [
    "URL = \"http://localhost:8000/api/chat/completion\"\n",
    "MODEL = \"blip2zh-chatglm-6b\"\n",
    "MESSAGES = [{\"role\": ROLE_USER, \"content\": \"这张照片的内容是什么？\", \"media\": [\"chat-overview.png\"]}]\n",
    "data = {\"data\": json.dumps({\"model\": MODEL, \"messages\": MESSAGES, \"stream\": True})}\n",
    "files = [\n",
    "    (\n",
    "        \"files\",\n",
    "        (\n",
    "            \"chat-overview.png\",\n",
    "            open(\"doc/img/chat-overview.png\", \"rb\"),\n",
    "            \"image/png\",\n",
    "        ),\n",
    "    ),\n",
    "    (\n",
    "        \"files\",\n",
    "        (\n",
    "            \"mm-chat-overview.png\",\n",
    "            open(\"doc/img/mm-chat-overview.png\", \"rb\"),\n",
    "            \"image/png\",\n",
    "        ),\n",
    "    ),\n",
    "]\n",
    "resp = requests.post(URL, data=data, files=files, stream=True)\n",
    "for line in resp.iter_lines():\n",
    "    result = json.loads(line)\n",
    "    print(result)\n"
   ]
  }
 ],
 "metadata": {
  "kernelspec": {
   "display_name": "chatglm",
   "language": "python",
   "name": "python3"
  },
  "language_info": {
   "codemirror_mode": {
    "name": "ipython",
    "version": 3
   },
   "file_extension": ".py",
   "mimetype": "text/x-python",
   "name": "python",
   "nbconvert_exporter": "python",
   "pygments_lexer": "ipython3",
   "version": "3.9.16"
  },
  "orig_nbformat": 4
 },
 "nbformat": 4,
 "nbformat_minor": 2
}
